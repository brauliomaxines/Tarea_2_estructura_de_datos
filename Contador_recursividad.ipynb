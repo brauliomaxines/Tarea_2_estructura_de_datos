{
  "nbformat": 4,
  "nbformat_minor": 0,
  "metadata": {
    "colab": {
      "name": "Contador_recursividad.ipynb",
      "provenance": []
    },
    "kernelspec": {
      "name": "python3",
      "display_name": "Python 3"
    },
    "language_info": {
      "name": "python"
    }
  },
  "cells": [
    {
      "cell_type": "code",
      "metadata": {
        "id": "mmG3qzfVjXgW"
      },
      "source": [
        "def contador( n ):\n",
        "    if n >= 0:\n",
        "        print( n )\n",
        "        contador( n - 1)\n",
        "        if n == 0:\n",
        "            print('BOOOM!!!')\n"
      ],
      "execution_count": 6,
      "outputs": []
    },
    {
      "cell_type": "code",
      "metadata": {
        "colab": {
          "base_uri": "https://localhost:8080/"
        },
        "id": "uGjk_mYCkQ4N",
        "outputId": "e4c9dbd2-2037-4177-c57c-28551085db91"
      },
      "source": [
        "contador( 5 )"
      ],
      "execution_count": 9,
      "outputs": [
        {
          "output_type": "stream",
          "name": "stdout",
          "text": [
            "5\n",
            "4\n",
            "3\n",
            "2\n",
            "1\n",
            "0\n",
            "BOOOM!!!\n"
          ]
        }
      ]
    }
  ]
}