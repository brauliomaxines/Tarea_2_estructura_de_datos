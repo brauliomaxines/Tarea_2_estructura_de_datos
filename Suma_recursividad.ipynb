{
  "nbformat": 4,
  "nbformat_minor": 0,
  "metadata": {
    "colab": {
      "name": "Suma_recursividad.ipynb",
      "provenance": []
    },
    "kernelspec": {
      "name": "python3",
      "display_name": "Python 3"
    },
    "language_info": {
      "name": "python"
    }
  },
  "cells": [
    {
      "cell_type": "code",
      "metadata": {
        "colab": {
          "base_uri": "https://localhost:8080/"
        },
        "id": "H8eAcbuqdGjI",
        "outputId": "e1e3c52f-0195-42bb-f950-20bd5f5d75fd"
      },
      "source": [
        "lista = [ 1, 3, 5, 7, 9 ]\n",
        "def suma( lista ):\n",
        "    if len ( lista ) == 0:\n",
        "        return 0\n",
        "    else:\n",
        "        return lista[ 0 ] + suma ( lista[1:] )\n",
        "print(f'la suma de la lista es {(suma(lista))}')"
      ],
      "execution_count": null,
      "outputs": [
        {
          "output_type": "stream",
          "name": "stdout",
          "text": [
            "la suma de la lista es 25\n"
          ]
        }
      ]
    }
  ]
}