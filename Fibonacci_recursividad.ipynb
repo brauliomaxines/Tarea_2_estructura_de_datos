{
  "nbformat": 4,
  "nbformat_minor": 0,
  "metadata": {
    "colab": {
      "name": "Fibonacci_recursividad.ipynb",
      "provenance": []
    },
    "kernelspec": {
      "name": "python3",
      "display_name": "Python 3"
    },
    "language_info": {
      "name": "python"
    }
  },
  "cells": [
    {
      "cell_type": "code",
      "metadata": {
        "id": "NQOpwlIqYOOi",
        "colab": {
          "base_uri": "https://localhost:8080/"
        },
        "outputId": "bf49f97a-9e61-42a6-e233-f841f7d0b562"
      },
      "source": [
        "def Fibonacci( n ):\n",
        "    if n < 2:\n",
        "        return n\n",
        "    else:\n",
        "        return Fibonacci( n - 1 ) + Fibonacci ( n - 2 )\n",
        "\n",
        "for x in range(10):\n",
        "        print( Fibonacci(x) )"
      ],
      "execution_count": 25,
      "outputs": [
        {
          "output_type": "stream",
          "name": "stdout",
          "text": [
            "0\n",
            "1\n",
            "1\n",
            "2\n",
            "3\n",
            "5\n",
            "8\n",
            "13\n",
            "21\n",
            "34\n"
          ]
        }
      ]
    },
    {
      "cell_type": "code",
      "metadata": {
        "colab": {
          "base_uri": "https://localhost:8080/"
        },
        "id": "kuF9pKu7bYwn",
        "outputId": "85310293-1bfa-406d-8df0-8829b8c3db14"
      },
      "source": [
        "Fibonacci( 17 )\n",
        "#El número que quiera de la sucesión "
      ],
      "execution_count": 21,
      "outputs": [
        {
          "output_type": "execute_result",
          "data": {
            "text/plain": [
              "1597"
            ]
          },
          "metadata": {},
          "execution_count": 21
        }
      ]
    }
  ]
}